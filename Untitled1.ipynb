{
 "cells": [
  {
   "cell_type": "code",
   "execution_count": null,
   "id": "bf9d4b1e",
   "metadata": {},
   "outputs": [],
   "source": [
    "class Queue:\n",
    "    def __init__(self)\n",
    "        self.items = []\n",
    "\n",
    "    def is _empty(self):\n",
    "        return self.items == []\n",
    "\n",
    "    def equeue(self,item):\n",
    "        self.items.insert(0, item)\n",
    "    \n",
    "    def dequenue(self):\n",
    "        return self.items.pop()\n",
    "\n",
    "    def size(self):\n",
    "        "
   ]
  },
  {
   "cell_type": "code",
   "execution_count": 6,
   "id": "c9becf62",
   "metadata": {},
   "outputs": [],
   "source": [
    "from string import ascii_lowercase\n",
    "from random import randint, choice\n",
    "from time import sleep\n",
    "\n",
    "def register_visitors(visitor_queue):\n",
    "    for char in ascii__lowercase:\n",
    "        visitor_queue.enque(char)\n",
    "         \n",
    "        \n",
    "def service_customers(visitor_queue):\n",
    "    bank_teller = [\"A\", \"B\", \"C\", \"D\", \"E\", \"F\", \"G\"]\n",
    "    while not visitor_queue.is_empty():\n",
    "        visitor = visitor_queue.dequeue()  \n",
    "        print = (\"thank you for waiting %s, station %s is ready for you.\" \n",
    "                % (visitor, choice(bank_tellers)))\n",
    "        sleep(randiant(1,2))\n",
    "        print(\"empty vistor queue.\")\n",
    "        \n",
    "        \n",
    "def main():\n",
    "    visitor_queue = Queue()\n",
    "    register_visitor(visitor_queue)\n",
    "    service_customer(visitor_queue)\n",
    "        \n",
    "    \n",
    "        \n",
    "    "
   ]
  },
  {
   "cell_type": "code",
   "execution_count": null,
   "id": "bf151912",
   "metadata": {},
   "outputs": [],
   "source": [
    "# create a function names balance and add the parameter\n",
    "# Compare the parameter to using  Queue = queue()\n",
    "# "
   ]
  },
  {
   "cell_type": "code",
   "execution_count": null,
   "id": "6369257f",
   "metadata": {},
   "outputs": [],
   "source": [
    " def balance_check(s):\n",
    "        if len(s) %2 != 0:\n",
    "        return False\n",
    "        opening = set (\"( { [\")\n",
    "        matches = set({(\"(\",\")\", (\"[\",\"]\"), (\"{\",\"}\"))})\n",
    "        stack = Stack()\n",
    "        for paren in s:\n",
    "            if paren in opening:\n",
    "                stack.push(paren)\n",
    "            else:\n",
    "                if stack.is_empty():\n",
    "                    return false\n",
    "                last_open = stack.pop()\n",
    "                if(last_open,paren) not in matches:\n",
    "                    return false\n",
    "        return stack.is_empty()\n",
    "        \n",
    "      "
   ]
  },
  {
   "cell_type": "code",
   "execution_count": null,
   "id": "2958c080",
   "metadata": {},
   "outputs": [],
   "source": [
    "class Queue2Stacks:\n",
    "    def __init__(self):\n",
    "        # two stacks\n",
    "        self.stack1 = []\n",
    "        self.stack2 = []\n",
    "        \n",
    "    def equeue(self, element):\n",
    "        # Fill out Code here\n",
    "        pass\n",
    "        \n",
    "    def dequeue(self):\n",
    "        # Fill Out Code Here\n",
    "        pass\n",
    "    \n",
    "    def test \n",
    "    \n",
    "    q = Queue2Stacks()\n",
    "    for i in range(5):"
   ]
  }
 ],
 "metadata": {
  "kernelspec": {
   "display_name": "Python 3 (ipykernel)",
   "language": "python",
   "name": "python3"
  },
  "language_info": {
   "codemirror_mode": {
    "name": "ipython",
    "version": 3
   },
   "file_extension": ".py",
   "mimetype": "text/x-python",
   "name": "python",
   "nbconvert_exporter": "python",
   "pygments_lexer": "ipython3",
   "version": "3.8.10"
  }
 },
 "nbformat": 4,
 "nbformat_minor": 5
}
