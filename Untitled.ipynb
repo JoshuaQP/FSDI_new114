{
 "cells": [
  {
   "cell_type": "code",
   "execution_count": 4,
   "id": "c9fd37b9",
   "metadata": {},
   "outputs": [
    {
     "name": "stdout",
     "output_type": "stream",
     "text": [
      "hello, world!\n"
     ]
    }
   ],
   "source": [
    "\n",
    "print(\"hello, world!\")"
   ]
  },
  {
   "cell_type": "code",
   "execution_count": 8,
   "id": "46254ca8",
   "metadata": {},
   "outputs": [],
   "source": [
    "for letter in \"hello, world!\":\n",
    "    print:(letter)"
   ]
  },
  {
   "cell_type": "markdown",
   "id": "53ff57c9",
   "metadata": {},
   "source": [
    "# Problem \n",
    "### Given two strings (strings_a and string_b) lets check weather or not they areanagrams of each other the following critetria:\n",
    "two string are only anagrams of each other if all condition below are met:\n",
    "they must be exactly the same length.\n",
    "they must use exactly the same charchter(no more, no less). Example: cars and scar, heart and earth."
   ]
  },
  {
   "cell_type": "code",
   "execution_count": null,
   "id": "1eebd2c5",
   "metadata": {},
   "outputs": [],
   "source": [
    "def is_anagram(string_a, string_b):\n",
    "    if len(string_a) != len (string_b):\n",
    "        return false\n",
    "    char_times_a = dict()\n",
    "    char_times_b = dict()\n",
    "    for i in range( len(string_a)):\n",
    "        if string_a[i] not in char_times_a.keys():\n",
    "            char_times_a[string_a[i]] = 0\n",
    "        else:\n",
    "            char_times_a[string_a[i]] += 1\n",
    "        if string_b[i] not in char_time_b.keys():\n",
    "            char_times_b[string_b[i]] = 0\n",
    "        else:\n",
    "            char_times_b[string_b[i]] += 1\n",
    "    return char_times_a == char_times_b"
   ]
  },
  {
   "cell_type": "code",
   "execution_count": null,
   "id": "0d7fce23",
   "metadata": {},
   "outputs": [],
   "source": [
    "is_angram(\"cars\", \"scar\")\n"
   ]
  },
  {
   "cell_type": "code",
   "execution_count": null,
   "id": "40b5966d",
   "metadata": {},
   "outputs": [],
   "source": [
    "is_anagram(\"sccr\", \"scar\")"
   ]
  },
  {
   "cell_type": "code",
   "execution_count": null,
   "id": "f4997d5c",
   "metadata": {},
   "outputs": [],
   "source": [
    "is_anagram(\"I am lord voldemort\", \"Tom Marvolo Riddle\")"
   ]
  },
  {
   "cell_type": "code",
   "execution_count": null,
   "id": "97bc6916",
   "metadata": {},
   "outputs": [],
   "source": [
    "class Stack:\n",
    "    def __init__(self):\n",
    "        self.items == []\n",
    "\n",
    "    def push(self, item):\n",
    "            self.items.append(item)\n",
    "            \n",
    "    def pop(self):\n",
    "        return self.items.pop()\n",
    "    \n",
    "    def peek(self):\n",
    "        return self.items[len(self.items)-1]\n",
    "    \n",
    "    def size(self):\n",
    "        return len(self.items)"
   ]
  },
  {
   "cell_type": "code",
   "execution_count": 9,
   "id": "a94b1160",
   "metadata": {},
   "outputs": [],
   "source": [
    "def reverse_str(s):\n",
    "    out = \"\"\n",
    "    stack = Stack()\n",
    "    for letter in s:\n",
    "        stack.push(letter)\n",
    "    while not stack.is_empty():\n",
    "        out += stack.pop()\n",
    "    return out"
   ]
  },
  {
   "cell_type": "code",
   "execution_count": 10,
   "id": "a7e4de7f",
   "metadata": {},
   "outputs": [
    {
     "name": "stdout",
     "output_type": "stream",
     "text": [
      "auhsoj\n"
     ]
    }
   ],
   "source": [
    "reverse_str(\"josh\")"
   ]
  },
  {
   "cell_type": "code",
   "execution_count": null,
   "id": "41befe92",
   "metadata": {},
   "outputs": [],
   "source": []
  }
 ],
 "metadata": {
  "kernelspec": {
   "display_name": "Python 3 (ipykernel)",
   "language": "python",
   "name": "python3"
  },
  "language_info": {
   "codemirror_mode": {
    "name": "ipython",
    "version": 3
   },
   "file_extension": ".py",
   "mimetype": "text/x-python",
   "name": "python",
   "nbconvert_exporter": "python",
   "pygments_lexer": "ipython3",
   "version": "3.8.10"
  }
 },
 "nbformat": 4,
 "nbformat_minor": 5
}
