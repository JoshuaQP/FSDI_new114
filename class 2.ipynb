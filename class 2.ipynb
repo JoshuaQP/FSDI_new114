{
 "cells": [
  {
   "cell_type": "code",
   "execution_count": 19,
   "id": "bf9d4b1e",
   "metadata": {},
   "outputs": [],
   "source": [
    "class Queue:\n",
    "    def __init__(self):\n",
    "        self.items = []\n",
    "\n",
    "    def is_empty(self):\n",
    "        return self.items == []\n",
    "\n",
    "    def enqueue(self,item):\n",
    "        self.items.insert(0, item)\n",
    "    \n",
    "    def dequeue(self):\n",
    "        return self.items.pop()\n",
    "\n",
    "    def size(self):\n",
    "        return len(self.items)\n",
    "        "
   ]
  },
  {
   "cell_type": "code",
   "execution_count": 20,
   "id": "c9becf62",
   "metadata": {},
   "outputs": [],
   "source": [
    "from string import ascii_lowercase\n",
    "from random import randint, choice\n",
    "from time import sleep\n",
    "\n",
    "def register_visitor(visitor_queue):\n",
    "    for char in ascii_lowercase:\n",
    "        visitor_queue.enqueue(char)\n",
    "         \n",
    "        \n",
    "def service_customer(visitor_queue):\n",
    "    bank_tellers = [\"A\", \"B\", \"C\", \"D\", \"E\", \"F\", \"G\"]\n",
    "    while not visitor_queue.is_empty():\n",
    "        visitor = visitor_queue.dequeue()  \n",
    "        print(\"thank you for waiting %s, station %s is ready for you.\" % (visitor, choice(bank_tellers)))\n",
    "        sleep(randint(1,2))\n",
    "        print(\"empty visitor queue.\")\n",
    "        \n",
    "        \n",
    "def main():\n",
    "    visitor_queue = Queue()\n",
    "    register_visitor(visitor_queue)\n",
    "    service_customer(visitor_queue)\n",
    "        \n",
    "    \n",
    "        \n",
    "    "
   ]
  },
  {
   "cell_type": "code",
   "execution_count": 21,
   "id": "5a3d4ef4",
   "metadata": {},
   "outputs": [
    {
     "name": "stdout",
     "output_type": "stream",
     "text": [
      "thank you for waiting a, station B is ready for you.\n",
      "empty visitor queue.\n",
      "thank you for waiting b, station A is ready for you.\n",
      "empty visitor queue.\n",
      "thank you for waiting c, station F is ready for you.\n",
      "empty visitor queue.\n",
      "thank you for waiting d, station G is ready for you.\n",
      "empty visitor queue.\n",
      "thank you for waiting e, station D is ready for you.\n",
      "empty visitor queue.\n",
      "thank you for waiting f, station E is ready for you.\n",
      "empty visitor queue.\n",
      "thank you for waiting g, station D is ready for you.\n",
      "empty visitor queue.\n",
      "thank you for waiting h, station G is ready for you.\n",
      "empty visitor queue.\n",
      "thank you for waiting i, station E is ready for you.\n",
      "empty visitor queue.\n",
      "thank you for waiting j, station C is ready for you.\n",
      "empty visitor queue.\n",
      "thank you for waiting k, station F is ready for you.\n",
      "empty visitor queue.\n",
      "thank you for waiting l, station E is ready for you.\n",
      "empty visitor queue.\n",
      "thank you for waiting m, station F is ready for you.\n",
      "empty visitor queue.\n",
      "thank you for waiting n, station E is ready for you.\n",
      "empty visitor queue.\n",
      "thank you for waiting o, station G is ready for you.\n",
      "empty visitor queue.\n",
      "thank you for waiting p, station B is ready for you.\n",
      "empty visitor queue.\n",
      "thank you for waiting q, station E is ready for you.\n",
      "empty visitor queue.\n",
      "thank you for waiting r, station B is ready for you.\n",
      "empty visitor queue.\n",
      "thank you for waiting s, station B is ready for you.\n",
      "empty visitor queue.\n",
      "thank you for waiting t, station B is ready for you.\n",
      "empty visitor queue.\n",
      "thank you for waiting u, station G is ready for you.\n",
      "empty visitor queue.\n",
      "thank you for waiting v, station D is ready for you.\n",
      "empty visitor queue.\n",
      "thank you for waiting w, station A is ready for you.\n",
      "empty visitor queue.\n",
      "thank you for waiting x, station D is ready for you.\n",
      "empty visitor queue.\n",
      "thank you for waiting y, station D is ready for you.\n",
      "empty visitor queue.\n",
      "thank you for waiting z, station D is ready for you.\n",
      "empty visitor queue.\n"
     ]
    }
   ],
   "source": [
    "main()"
   ]
  },
  {
   "cell_type": "code",
   "execution_count": 22,
   "id": "bf151912",
   "metadata": {},
   "outputs": [],
   "source": [
    "# create a function names balance and add the parameter\n",
    "# Compare the parameter to using  Queue = queue()\n",
    "# "
   ]
  },
  {
   "cell_type": "code",
   "execution_count": 23,
   "id": "6369257f",
   "metadata": {},
   "outputs": [],
   "source": [
    " def balance_check(s):\n",
    "        if len(s)%2 != 0:\n",
    "            return False\n",
    "        opening = set(\"( { [\")\n",
    "        matches = set([(\"(\",\")\"), (\"[\",\"]\"), (\"{\",\"}\")])\n",
    "        stack = Stack()\n",
    "        for paren in s:\n",
    "            if paren in opening:\n",
    "                stack.push(paren)\n",
    "            else:\n",
    "                if stack.is_empty():\n",
    "                    return False\n",
    "                last_open = stack.pop()\n",
    "                if(last_open,paren) not in matches:\n",
    "                    return False\n",
    "        return stack.is_empty()\n",
    "        \n",
    "      "
   ]
  },
  {
   "cell_type": "code",
   "execution_count": null,
   "id": "df3a27d5",
   "metadata": {},
   "outputs": [],
   "source": []
  },
  {
   "cell_type": "code",
   "execution_count": null,
   "id": "4bb0d949",
   "metadata": {},
   "outputs": [],
   "source": []
  },
  {
   "cell_type": "code",
   "execution_count": 31,
   "id": "2958c080",
   "metadata": {},
   "outputs": [],
   "source": [
    "class Queue2Stacks:\n",
    "    def __init__(self):  \n",
    "        self.stack1 = []\n",
    "        self.stack2 = []\n",
    "        \n",
    "    def enqueue(self, element):\n",
    "        self.stack1.append(element)\n",
    "        \n",
    "        \n",
    "    def dequeue(self):\n",
    "        if not self.stack2:\n",
    "            self.stack2.append(self.stack1.pop())\n",
    "        return self.stack2.pop()\n",
    "    \n",
    "   "
   ]
  },
  {
   "cell_type": "code",
   "execution_count": 32,
   "id": "d40aa111",
   "metadata": {},
   "outputs": [],
   "source": [
    " def test():\n",
    "    \n",
    "    q = Queue2Stacks()\n",
    "    for i in range(5):\n",
    "        q.enqueue(i)\n",
    "    for i in range(5):\n",
    "        print(q.dequeue())"
   ]
  },
  {
   "cell_type": "code",
   "execution_count": 33,
   "id": "173d34ee",
   "metadata": {},
   "outputs": [
    {
     "name": "stdout",
     "output_type": "stream",
     "text": [
      "4\n",
      "3\n",
      "2\n",
      "1\n",
      "0\n"
     ]
    }
   ],
   "source": [
    "test()"
   ]
  },
  {
   "cell_type": "code",
   "execution_count": null,
   "id": "a5d264c2",
   "metadata": {},
   "outputs": [],
   "source": []
  }
 ],
 "metadata": {
  "kernelspec": {
   "display_name": "Python 3 (ipykernel)",
   "language": "python",
   "name": "python3"
  },
  "language_info": {
   "codemirror_mode": {
    "name": "ipython",
    "version": 3
   },
   "file_extension": ".py",
   "mimetype": "text/x-python",
   "name": "python",
   "nbconvert_exporter": "python",
   "pygments_lexer": "ipython3",
   "version": "3.8.10"
  }
 },
 "nbformat": 4,
 "nbformat_minor": 5
}
