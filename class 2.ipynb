{
 "cells": [
  {
   "cell_type": "code",
   "execution_count": 18,
   "id": "bf9d4b1e",
   "metadata": {},
   "outputs": [],
   "source": [
    "class Queue:\n",
    "    def __init__(self):\n",
    "        self.items = []\n",
    "\n",
    "    def is_empty(self):\n",
    "        return self.items == []\n",
    "\n",
    "    def enqueue(self,item):\n",
    "        self.items.insert(0, item)\n",
    "    \n",
    "    def dequeue(self):\n",
    "        return self.items.pop()\n",
    "\n",
    "    def size(self):\n",
    "        return len(self.items)\n",
    "        "
   ]
  },
  {
   "cell_type": "code",
   "execution_count": 22,
   "id": "c9becf62",
   "metadata": {},
   "outputs": [],
   "source": [
    "from string import ascii_lowercase\n",
    "from random import randint, choice\n",
    "from time import sleep\n",
    "\n",
    "def register_visitor(visitor_queue):\n",
    "    for char in ascii_lowercase:\n",
    "        visitor_queue.enqueue(char)\n",
    "         \n",
    "        \n",
    "def service_customer(visitor_queue):\n",
    "    bank_tellers = [\"A\", \"B\", \"C\", \"D\", \"E\", \"F\", \"G\"]\n",
    "    while not visitor_queue.is_empty():\n",
    "        visitor = visitor_queue.dequeue()  \n",
    "        print(\"thank you for waiting %s, station %s is ready for you.\" % (visitor, choice(bank_tellers)))\n",
    "        sleep(randint(1,2))\n",
    "        print(\"empty visitor queue.\")\n",
    "        \n",
    "        \n",
    "def main():\n",
    "    visitor_queue = Queue()\n",
    "    register_visitor(visitor_queue)\n",
    "    service_customer(visitor_queue)\n",
    "        \n",
    "    \n",
    "        \n",
    "    "
   ]
  },
  {
   "cell_type": "code",
   "execution_count": 23,
   "id": "5a3d4ef4",
   "metadata": {},
   "outputs": [
    {
     "name": "stdout",
     "output_type": "stream",
     "text": [
      "thank you for waiting a, station E is ready for you.\n",
      "empty visitor queue.\n",
      "thank you for waiting b, station E is ready for you.\n",
      "empty visitor queue.\n",
      "thank you for waiting c, station B is ready for you.\n",
      "empty visitor queue.\n",
      "thank you for waiting d, station A is ready for you.\n",
      "empty visitor queue.\n",
      "thank you for waiting e, station A is ready for you.\n",
      "empty visitor queue.\n",
      "thank you for waiting f, station C is ready for you.\n",
      "empty visitor queue.\n",
      "thank you for waiting g, station A is ready for you.\n",
      "empty visitor queue.\n",
      "thank you for waiting h, station D is ready for you.\n",
      "empty visitor queue.\n",
      "thank you for waiting i, station G is ready for you.\n",
      "empty visitor queue.\n",
      "thank you for waiting j, station A is ready for you.\n",
      "empty visitor queue.\n",
      "thank you for waiting k, station A is ready for you.\n",
      "empty visitor queue.\n",
      "thank you for waiting l, station E is ready for you.\n",
      "empty visitor queue.\n",
      "thank you for waiting m, station A is ready for you.\n",
      "empty visitor queue.\n",
      "thank you for waiting n, station A is ready for you.\n",
      "empty visitor queue.\n",
      "thank you for waiting o, station A is ready for you.\n",
      "empty visitor queue.\n",
      "thank you for waiting p, station F is ready for you.\n",
      "empty visitor queue.\n",
      "thank you for waiting q, station A is ready for you.\n",
      "empty visitor queue.\n",
      "thank you for waiting r, station F is ready for you.\n",
      "empty visitor queue.\n",
      "thank you for waiting s, station B is ready for you.\n",
      "empty visitor queue.\n",
      "thank you for waiting t, station A is ready for you.\n",
      "empty visitor queue.\n",
      "thank you for waiting u, station A is ready for you.\n",
      "empty visitor queue.\n",
      "thank you for waiting v, station A is ready for you.\n",
      "empty visitor queue.\n",
      "thank you for waiting w, station G is ready for you.\n",
      "empty visitor queue.\n",
      "thank you for waiting x, station D is ready for you.\n",
      "empty visitor queue.\n",
      "thank you for waiting y, station C is ready for you.\n",
      "empty visitor queue.\n",
      "thank you for waiting z, station E is ready for you.\n",
      "empty visitor queue.\n"
     ]
    }
   ],
   "source": [
    "main()"
   ]
  },
  {
   "cell_type": "code",
   "execution_count": 7,
   "id": "bf151912",
   "metadata": {},
   "outputs": [],
   "source": [
    "# create a function names balance and add the parameter\n",
    "# Compare the parameter to using  Queue = queue()\n",
    "# "
   ]
  },
  {
   "cell_type": "code",
   "execution_count": 34,
   "id": "6369257f",
   "metadata": {},
   "outputs": [],
   "source": [
    " def balance_check(s):\n",
    "        if len(s)%2 != 0:\n",
    "            return False\n",
    "        opening = set(\"( { [\")\n",
    "        matches = set([(\"(\",\")\"), (\"[\",\"]\"), (\"{\",\"}\")])\n",
    "        stack = Stack()\n",
    "        for paren in s:\n",
    "            if paren in opening:\n",
    "                stack.push(paren)\n",
    "            else:\n",
    "                if stack.is_empty():\n",
    "                    return False\n",
    "                last_open = stack.pop()\n",
    "                if(last_open,paren) not in matches:\n",
    "                    return False\n",
    "        return stack.is_empty()\n",
    "        \n",
    "      "
   ]
  },
  {
   "cell_type": "code",
   "execution_count": 35,
   "id": "df3a27d5",
   "metadata": {},
   "outputs": [
    {
     "ename": "NameError",
     "evalue": "name 'Stack' is not defined",
     "output_type": "error",
     "traceback": [
      "\u001b[0;31m---------------------------------------------------------------------------\u001b[0m",
      "\u001b[0;31mNameError\u001b[0m                                 Traceback (most recent call last)",
      "\u001b[0;32m/tmp/ipykernel_408/2915089172.py\u001b[0m in \u001b[0;36m<module>\u001b[0;34m\u001b[0m\n\u001b[0;32m----> 1\u001b[0;31m \u001b[0mbalance_check\u001b[0m\u001b[0;34m(\u001b[0m\u001b[0;34m\"([{{}}])\"\u001b[0m\u001b[0;34m)\u001b[0m\u001b[0;34m\u001b[0m\u001b[0;34m\u001b[0m\u001b[0m\n\u001b[0m",
      "\u001b[0;32m/tmp/ipykernel_408/723226783.py\u001b[0m in \u001b[0;36mbalance_check\u001b[0;34m(s)\u001b[0m\n\u001b[1;32m      4\u001b[0m        \u001b[0mopening\u001b[0m \u001b[0;34m=\u001b[0m \u001b[0mset\u001b[0m\u001b[0;34m(\u001b[0m\u001b[0;34m\"( { [\"\u001b[0m\u001b[0;34m)\u001b[0m\u001b[0;34m\u001b[0m\u001b[0;34m\u001b[0m\u001b[0m\n\u001b[1;32m      5\u001b[0m        \u001b[0mmatches\u001b[0m \u001b[0;34m=\u001b[0m \u001b[0mset\u001b[0m\u001b[0;34m(\u001b[0m\u001b[0;34m[\u001b[0m\u001b[0;34m(\u001b[0m\u001b[0;34m\"(\"\u001b[0m\u001b[0;34m,\u001b[0m\u001b[0;34m\")\"\u001b[0m\u001b[0;34m)\u001b[0m\u001b[0;34m,\u001b[0m \u001b[0;34m(\u001b[0m\u001b[0;34m\"[\"\u001b[0m\u001b[0;34m,\u001b[0m\u001b[0;34m\"]\"\u001b[0m\u001b[0;34m)\u001b[0m\u001b[0;34m,\u001b[0m \u001b[0;34m(\u001b[0m\u001b[0;34m\"{\"\u001b[0m\u001b[0;34m,\u001b[0m\u001b[0;34m\"}\"\u001b[0m\u001b[0;34m)\u001b[0m\u001b[0;34m]\u001b[0m\u001b[0;34m)\u001b[0m\u001b[0;34m\u001b[0m\u001b[0;34m\u001b[0m\u001b[0m\n\u001b[0;32m----> 6\u001b[0;31m        \u001b[0mstack\u001b[0m \u001b[0;34m=\u001b[0m \u001b[0mStack\u001b[0m\u001b[0;34m(\u001b[0m\u001b[0;34m)\u001b[0m\u001b[0;34m\u001b[0m\u001b[0;34m\u001b[0m\u001b[0m\n\u001b[0m\u001b[1;32m      7\u001b[0m        \u001b[0;32mfor\u001b[0m \u001b[0mparen\u001b[0m \u001b[0;32min\u001b[0m \u001b[0ms\u001b[0m\u001b[0;34m:\u001b[0m\u001b[0;34m\u001b[0m\u001b[0;34m\u001b[0m\u001b[0m\n\u001b[1;32m      8\u001b[0m            \u001b[0;32mif\u001b[0m \u001b[0mparen\u001b[0m \u001b[0;32min\u001b[0m \u001b[0mopening\u001b[0m\u001b[0;34m:\u001b[0m\u001b[0;34m\u001b[0m\u001b[0;34m\u001b[0m\u001b[0m\n",
      "\u001b[0;31mNameError\u001b[0m: name 'Stack' is not defined"
     ]
    }
   ],
   "source": [
    "balance_check(\"([{{}}])\")"
   ]
  },
  {
   "cell_type": "code",
   "execution_count": null,
   "id": "4bb0d949",
   "metadata": {},
   "outputs": [],
   "source": [
    "balance_check(\"([{([{[]}])}])\")"
   ]
  },
  {
   "cell_type": "code",
   "execution_count": null,
   "id": "2958c080",
   "metadata": {},
   "outputs": [],
   "source": [
    "class Queue2Stacks:\n",
    "    def __init__(self):\n",
    "        # two stacks\n",
    "        self.stack1 = []\n",
    "        self.stack2 = []\n",
    "        \n",
    "    def equeue(self, element):\n",
    "        # Fill out Code here\n",
    "        pass\n",
    "        \n",
    "    def dequeue(self):\n",
    "        # Fill Out Code Here\n",
    "        pass\n",
    "    \n",
    "    def test \n",
    "    \n",
    "    q = Queue2Stacks()\n",
    "    for i in range(5):"
   ]
  }
 ],
 "metadata": {
  "kernelspec": {
   "display_name": "Python 3 (ipykernel)",
   "language": "python",
   "name": "python3"
  },
  "language_info": {
   "codemirror_mode": {
    "name": "ipython",
    "version": 3
   },
   "file_extension": ".py",
   "mimetype": "text/x-python",
   "name": "python",
   "nbconvert_exporter": "python",
   "pygments_lexer": "ipython3",
   "version": "3.8.10"
  }
 },
 "nbformat": 4,
 "nbformat_minor": 5
}
