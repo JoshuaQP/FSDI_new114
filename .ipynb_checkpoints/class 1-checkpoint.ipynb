{
 "cells": [
  {
   "cell_type": "code",
   "execution_count": 4,
   "id": "65b8cf34",
   "metadata": {},
   "outputs": [
    {
     "name": "stdout",
     "output_type": "stream",
     "text": [
      "hello, world!\n"
     ]
    }
   ],
   "source": [
    "\n",
    "print(\"hello, world!\")"
   ]
  },
  {
   "cell_type": "code",
   "execution_count": 8,
   "id": "df71d8d8",
   "metadata": {},
   "outputs": [],
   "source": [
    "for letter in \"hello, world!\":\n",
    "    print:(letter)"
   ]
  },
  {
   "cell_type": "markdown",
   "id": "5c6e3822",
   "metadata": {},
   "source": [
    "# Problem \n",
    "### Given two strings (strings_a and string_b) lets check weather or not they areanagrams of each other the following critetria:\n",
    "two string are only anagrams of each other if all condition below are met:\n",
    "they must be exactly the same length.\n",
    "they must use exactly the same charchter(no more, no less). Example: cars and scar, heart and earth."
   ]
  },
  {
   "cell_type": "code",
   "execution_count": null,
   "id": "c6a5d88c",
   "metadata": {},
   "outputs": [],
   "source": [
    "def is_anagram(string_a, string_b):\n",
    "    if len(string_a) != len (string_b):\n",
    "        return false\n",
    "    char_times_a = dict()\n",
    "    char_times_b = dict()\n",
    "    for i in range( len(string_a)):\n",
    "        if string_a[i] not in char_times_a.keys():\n",
    "            char_times_a[string_a[i]] = 0\n",
    "        else:\n",
    "            char_times_a[string_a[i]] += 1\n",
    "        if string_b[i] not in char_time_b.keys():\n",
    "            char_times_b[string_b[i]] = 0\n",
    "        else:\n",
    "            char_times_b[string_b[i]] += 1\n",
    "    return char_times_a == char_times_b"
   ]
  },
  {
   "cell_type": "code",
   "execution_count": null,
   "id": "6009a2a4",
   "metadata": {},
   "outputs": [],
   "source": [
    "is_angram(\"cars\", \"scar\")\n"
   ]
  },
  {
   "cell_type": "code",
   "execution_count": null,
   "id": "2ad55136",
   "metadata": {},
   "outputs": [],
   "source": [
    "is_anagram(\"sccr\", \"scar\")"
   ]
  },
  {
   "cell_type": "code",
   "execution_count": null,
   "id": "f510f038",
   "metadata": {},
   "outputs": [],
   "source": [
    "is_anagram(\"I am lord voldemort\", \"Tom Marvolo Riddle\")"
   ]
  }
 ],
 "metadata": {
  "kernelspec": {
   "display_name": "Python 3 (ipykernel)",
   "language": "python",
   "name": "python3"
  },
  "language_info": {
   "codemirror_mode": {
    "name": "ipython",
    "version": 3
   },
   "file_extension": ".py",
   "mimetype": "text/x-python",
   "name": "python",
   "nbconvert_exporter": "python",
   "pygments_lexer": "ipython3",
   "version": "3.8.10"
  }
 },
 "nbformat": 4,
 "nbformat_minor": 5
}
